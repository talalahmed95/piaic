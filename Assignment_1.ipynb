{
 "cells": [
  {
   "cell_type": "code",
   "execution_count": 26,
   "metadata": {},
   "outputs": [
    {
     "name": "stdout",
     "output_type": "stream",
     "text": [
      "Input Radius: 0.5\n",
      "Area of Circle with radius 0.5 is: 0.7853981633975\n"
     ]
    }
   ],
   "source": [
    "# 1. Calculate Area of a Circle\n",
    "\n",
    "radius = float(input('Input Radius: '))\n",
    "area = 3.14159265359*(radius**2)\n",
    "print('Area of Circle with radius', radius,'is:', area)"
   ]
  },
  {
   "cell_type": "code",
   "execution_count": 6,
   "metadata": {},
   "outputs": [
    {
     "name": "stdout",
     "output_type": "stream",
     "text": [
      "Enter Number: 2\n",
      "Positive Number Entered\n"
     ]
    }
   ],
   "source": [
    "# 2.Check Number either positive, negative or zero\n",
    "\n",
    "number = int(input('Enter Number: '))\n",
    "if number < 0:\n",
    "    print('Negative Number Entered')\n",
    "elif number > 0:\n",
    "    print('Positive Number Entered')\n",
    "elif number == 0:\n",
    "    print('Zero Entered')"
   ]
  },
  {
   "cell_type": "code",
   "execution_count": 11,
   "metadata": {},
   "outputs": [
    {
     "name": "stdout",
     "output_type": "stream",
     "text": [
      "Enter Numerator: 15\n",
      "Enter Denominator: 2\n",
      "Number 15 is NOT Completely divisible by 2\n"
     ]
    }
   ],
   "source": [
    "# 3. Divisibility Check of two numbers\n",
    "\n",
    "numerator = int(input('Enter Numerator: '))\n",
    "denominator = int(input('Enter Denominator: '))\n",
    "\n",
    "if numerator % denominator == 0:\n",
    "    print('Number', numerator, 'is Completely divisible by', denominator)\n",
    "else:\n",
    "    print('Number', numerator, 'is NOT Completely divisible by', denominator)"
   ]
  },
  {
   "cell_type": "code",
   "execution_count": 25,
   "metadata": {},
   "outputs": [
    {
     "name": "stdout",
     "output_type": "stream",
     "text": [
      "Enter a date in (dd/mm/yy) format: 12/12/2018\n",
      "Enter a date in (dd/mm/yy) format: 16/12/2018\n",
      "There are 4 days in between 12/12/2018 and 16/12/2018\n"
     ]
    }
   ],
   "source": [
    "# 4. Days Calculator\n",
    "\n",
    "from datetime import datetime\n",
    "\n",
    "date_format = \"%d/%m/%Y\"\n",
    "\n",
    "firstDate = input('Enter a date in (dd/mm/yy) format: ')\n",
    "secondDate = input('Enter a date in (dd/mm/yy) format: ')\n",
    "\n",
    "a = datetime.strptime(firstDate, date_format)\n",
    "b = datetime.strptime(secondDate, date_format)\n",
    "\n",
    "difference = b - a\n",
    "difference = difference.days\n",
    "print('There are', difference, 'days in between', firstDate, 'and', secondDate)"
   ]
  },
  {
   "cell_type": "code",
   "execution_count": 30,
   "metadata": {},
   "outputs": [
    {
     "name": "stdout",
     "output_type": "stream",
     "text": [
      "Enter Radius of Sphere: 1\n",
      "Volume of the Sphere with Radius 1 is 4.188790204786667\n"
     ]
    }
   ],
   "source": [
    "# 5. Calculate Volume of a sphere\n",
    "\n",
    "radius = int(input('Enter Radius of Sphere: '))\n",
    "\n",
    "volume = (4 / 3) * (3.14159265359) * (radius**3)\n",
    "\n",
    "print('Volume of the Sphere with Radius', radius, 'is', volume)"
   ]
  },
  {
   "cell_type": "code",
   "execution_count": 1,
   "metadata": {},
   "outputs": [
    {
     "name": "stdout",
     "output_type": "stream",
     "text": [
      "Enter String: Hi\n",
      "How many copies of String you need: 4\n",
      "4 Copies of Hi are HiHiHiHi\n"
     ]
    }
   ],
   "source": [
    "# 6. Copy string n times\n",
    "\n",
    "string = input('Enter String: ')\n",
    "no_of_copies = int(input('How many copies of String you need: '))\n",
    "\n",
    "copies = ''\n",
    "\n",
    "for i in range(no_of_copies):\n",
    "    copies += string\n",
    "\n",
    "print(no_of_copies, 'Copies of', string, 'are', copies)"
   ]
  },
  {
   "cell_type": "code",
   "execution_count": 4,
   "metadata": {},
   "outputs": [
    {
     "name": "stdout",
     "output_type": "stream",
     "text": [
      "Enter Number: 7\n",
      "7 is Odd\n"
     ]
    }
   ],
   "source": [
    "# 7. Check if number is Even or Odd\n",
    "\n",
    "number = int(input('Enter Number: '))\n",
    "\n",
    "if number % 2 == 0:\n",
    "    print(number, 'is Even')\n",
    "else:\n",
    "    print(number, 'is Odd')"
   ]
  },
  {
   "cell_type": "code",
   "execution_count": 6,
   "metadata": {},
   "outputs": [
    {
     "name": "stdout",
     "output_type": "stream",
     "text": [
      "Enter a character: U\n",
      "Letter U is Vowel\n"
     ]
    }
   ],
   "source": [
    "# 8. Vowel Tester\n",
    "\n",
    "char = input('Enter a character: ')\n",
    "vowels = ['a','e','i','o','u','A','E','I','O','U']\n",
    "\n",
    "if char in vowels:\n",
    "    print('Letter', char, 'is Vowel')\n",
    "    \n",
    "else:\n",
    "    print('Letter', char, 'is Not Vowel')"
   ]
  },
  {
   "cell_type": "code",
   "execution_count": 13,
   "metadata": {},
   "outputs": [
    {
     "name": "stdout",
     "output_type": "stream",
     "text": [
      "Enter magnitude of Triangle Base: 4\n",
      "Enter magnitude of Triangle Height: 4\n",
      "Area of a Triangle with Height 4 and Base 4 is 8\n"
     ]
    }
   ],
   "source": [
    "# 9. Triangle area\n",
    "\n",
    "base = int(input('Enter magnitude of Triangle Base: '))\n",
    "height = int(input('Enter magnitude of Triangle Height: '))\n",
    "\n",
    "area = (base * height) / 2\n",
    "area = int(area)\n",
    "\n",
    "print('Area of a Triangle with Height', height,'and Base', base, 'is',area)"
   ]
  },
  {
   "cell_type": "code",
   "execution_count": 20,
   "metadata": {
    "scrolled": true
   },
   "outputs": [
    {
     "name": "stdout",
     "output_type": "stream",
     "text": [
      "Please enter principal amount: 10000\n",
      "Please Enter Rate of interest in %: 0.1\n",
      "Enter number of years for investment: 5\n",
      "After 5 years your principal amount 10000 over an interest rate of 0.1 % will be 10049.999999999998\n"
     ]
    }
   ],
   "source": [
    "# 10. Calculate Interest\n",
    "\n",
    "principal = int(input('Please enter principal amount: '))\n",
    "rate = float(input('Please Enter Rate of interest in %: '))\n",
    "years = int(input('Enter number of years for investment: '))\n",
    "\n",
    "value = principal * (1 + ((rate / 100) * years))\n",
    "\n",
    "print('After', years, 'years your principal amount', principal, 'over an interest rate of', rate, '% will be', value)"
   ]
  },
  {
   "cell_type": "code",
   "execution_count": 3,
   "metadata": {},
   "outputs": [
    {
     "name": "stdout",
     "output_type": "stream",
     "text": [
      "Enter Co-ordinate for x1: 2\n",
      "Enter Co-ordinate for x2: 4\n",
      "Enter Co-ordinate for y1: 4\n",
      "Enter Co-ordinate for y2: 4\n",
      "Distance between points ( 2 , 4 ) and ( 4 , 4 ) is 2.0\n"
     ]
    }
   ],
   "source": [
    "# 11. Euclidean distance\n",
    "\n",
    "import math \n",
    "\n",
    "x1 = int(input('Enter Co-ordinate for x1: '))\n",
    "x2 = int(input('Enter Co-ordinate for x2: '))\n",
    "y1 = int(input('Enter Co-ordinate for y1: '))\n",
    "y2 = int(input('Enter Co-ordinate for y2: '))\n",
    "\n",
    "ed = math.sqrt((x2 - x1)**2 + (y2 - y1)**2)\n",
    "print('Distance between points (',x1,',',x2,') and (',y1,',',y2,') is', ed)"
   ]
  },
  {
   "cell_type": "code",
   "execution_count": 4,
   "metadata": {},
   "outputs": [
    {
     "name": "stdout",
     "output_type": "stream",
     "text": [
      "Enter Height in Feet: 5\n",
      "There are 152.4 Cm in 5 ft\n"
     ]
    }
   ],
   "source": [
    "# 12. Feet to Centimeter Converter\n",
    "\n",
    "feet = int(input('Enter Height in Feet: '))\n",
    "cm = feet * 30.48\n",
    "print('There are', cm, 'Cm in', feet, 'ft')"
   ]
  },
  {
   "cell_type": "code",
   "execution_count": 5,
   "metadata": {},
   "outputs": [
    {
     "name": "stdout",
     "output_type": "stream",
     "text": [
      "Enter Height in Cm: 180\n",
      "Enter Weight in Kg: 75\n",
      "Your BMI is 23.148148148148145\n"
     ]
    }
   ],
   "source": [
    "# 13. BMI Calculator\n",
    "\n",
    "height = int(input('Enter Height in Cm: '))\n",
    "height = height / 100 #to convert in meter\n",
    "weight = int(input('Enter Weight in Kg: '))\n",
    "\n",
    "bmi = weight / (height)**2\n",
    "\n",
    "print('Your BMI is', bmi)"
   ]
  },
  {
   "cell_type": "code",
   "execution_count": 9,
   "metadata": {},
   "outputs": [
    {
     "name": "stdout",
     "output_type": "stream",
     "text": [
      "Enter value of n: 5\n",
      "Sum of n Positive integers till 5 is 15\n"
     ]
    }
   ],
   "source": [
    "# 14. Sum of n Positive Integers\n",
    "\n",
    "n = int(input('Enter value of n: '))\n",
    "k = (n*(n+1))/2\n",
    "k = int(k)\n",
    "print('Sum of n Positive integers till', n, 'is', k)"
   ]
  },
  {
   "cell_type": "code",
   "execution_count": 10,
   "metadata": {
    "scrolled": true
   },
   "outputs": [
    {
     "name": "stdout",
     "output_type": "stream",
     "text": [
      "Enter a number: 1234\n",
      "Sum of 1+2+3+4 is 10\n"
     ]
    }
   ],
   "source": [
    "# 15. Digits Sum of a Number\n",
    "\n",
    "n = input('Enter a number: ')\n",
    "n = int(n)\n",
    "sum = 0\n",
    "\n",
    "num = []\n",
    "n = str(n)\n",
    "for i in n:\n",
    "    num.append(i)\n",
    "    \n",
    "\n",
    "n = int(n)\n",
    "while (n != 0):\n",
    "    sum = sum + (n % 10)\n",
    "    n = n/10\n",
    "    n = int(n)\n",
    "\n",
    "num = '+'.join(num)\n",
    "print('Sum of',num,'is', sum)"
   ]
  },
  {
   "cell_type": "code",
   "execution_count": 29,
   "metadata": {},
   "outputs": [
    {
     "name": "stdout",
     "output_type": "stream",
     "text": [
      "Enter a decimal number: 32\n",
      "Binary Representation of 32 is 100000\n"
     ]
    }
   ],
   "source": [
    "# 16. Decimal to Binary Converter\n",
    "\n",
    "decimal = int(input('Enter a decimal number: '))\n",
    "binary = bin(decimal)[2:]\n",
    "print('Binary Representation of', decimal, 'is', binary)"
   ]
  },
  {
   "cell_type": "code",
   "execution_count": 36,
   "metadata": {},
   "outputs": [
    {
     "name": "stdout",
     "output_type": "stream",
     "text": [
      "Enter a Binary number: 1101\n",
      "Decimal Representation of 1101 is 13\n"
     ]
    }
   ],
   "source": [
    "# 17. Binary to Decimal Converter\n",
    "\n",
    "binary = input('Enter a Binary number: ')\n",
    "decimal = int(binary, 2)\n",
    "print('Decimal Representation of', binary, 'is', decimal)"
   ]
  },
  {
   "cell_type": "code",
   "execution_count": 10,
   "metadata": {},
   "outputs": [
    {
     "name": "stdout",
     "output_type": "stream",
     "text": [
      "Enter text: QuickBrownFoxJumpsovertheDog\n",
      "Vowels: 9\n",
      "Consonants: 19\n"
     ]
    }
   ],
   "source": [
    "# 18. Vowel and Consonants Counter\n",
    "\n",
    "text = input('Enter text: ')\n",
    "\n",
    "vowels = ['a','e','i','o','u','A','E','I','O','U']\n",
    "vowel_list = []\n",
    "consonant_list = []\n",
    "\n",
    "\n",
    "for t in text:\n",
    "    if t in vowels:\n",
    "        vowel_list.append(t)\n",
    "        \n",
    "    else:\n",
    "        consonant_list.append(t)\n",
    "    \n",
    "print('Vowels:', len(vowel_list))\n",
    "print('Consonants:', len(consonant_list))"
   ]
  },
  {
   "cell_type": "code",
   "execution_count": 16,
   "metadata": {},
   "outputs": [
    {
     "name": "stdout",
     "output_type": "stream",
     "text": [
      "Enter text: huh\n",
      "Text huh is Palindrome\n"
     ]
    }
   ],
   "source": [
    "# 19. Palindrome tester\n",
    "\n",
    "text = input('Enter text: ')\n",
    "ptext = text[::-1]\n",
    "\n",
    "if ptext == text: \n",
    "    print('Text', text, 'is Palindrome')\n",
    "else:\n",
    "    print('Text', text, 'is not a Palindrome')"
   ]
  },
  {
   "cell_type": "code",
   "execution_count": 17,
   "metadata": {},
   "outputs": [
    {
     "name": "stdout",
     "output_type": "stream",
     "text": [
      "Enter text: Python 3.2\n",
      "Numbers: 2\n",
      "Alphabets: 6\n",
      "Special Characters: 1\n",
      "Spaces: 1\n"
     ]
    }
   ],
   "source": [
    "# 20. Count Alphabets, Numbers and Special Characters\n",
    "\n",
    "text = input('Enter text: ')\n",
    "\n",
    "numbers = ['0','1','2','3','4','5','6','7','8','9']\n",
    "alphabets = ['a','b','c','d','e','f','g','h','i','j','k','l','m','n','o','p','q','r','s','t','u','v','w','x','y','z','A','B','C','D','E','F','G','H','I','J','K','L','M','N','O','P','Q','R','S','T','U','V','W','X','Y','Z']\n",
    "space = ' '\n",
    "\n",
    "alphabet_list = []\n",
    "number_list = []\n",
    "sp_char_list = []\n",
    "space_list = []\n",
    "\n",
    "\n",
    "for t in text:\n",
    "    if t in numbers:\n",
    "        number_list.append(t)\n",
    "        \n",
    "    elif t in alphabets:\n",
    "        alphabet_list.append(t)\n",
    "        \n",
    "    elif t in space:\n",
    "        space_list.append(t)\n",
    "        \n",
    "    else:\n",
    "        sp_char_list.append(t)\n",
    "    \n",
    "print('Numbers:', len(number_list))\n",
    "print('Alphabets:', len(alphabet_list))\n",
    "print('Special Characters:', len(sp_char_list))\n",
    "print('Spaces:', len(space_list))"
   ]
  },
  {
   "cell_type": "code",
   "execution_count": 19,
   "metadata": {},
   "outputs": [
    {
     "name": "stdout",
     "output_type": "stream",
     "text": [
      "* \r\n",
      "* * \r\n",
      "* * * \r\n",
      "* * * * \r\n",
      "* * * * * \r\n",
      "* * * * \r\n",
      "* * * \r\n",
      "* * \r\n",
      "* \r\n",
      "\r\n"
     ]
    }
   ],
   "source": [
    "# 21. Write a Python program to construct the following pattern\n",
    "\n",
    "rows = 5\n",
    "for i in range (0, rows):\n",
    "    for j in range(0, i + 1):\n",
    "        print(\"*\", end=' ')\n",
    "    print(\"\\r\")\n",
    "for i in range (rows, 0, -1):\n",
    "    for j in range(0, i -1):\n",
    "        print(\"*\", end=' ')\n",
    "    print(\"\\r\")"
   ]
  },
  {
   "cell_type": "code",
   "execution_count": 21,
   "metadata": {},
   "outputs": [
    {
     "name": "stdout",
     "output_type": "stream",
     "text": [
      "1 \n",
      "1 2 \n",
      "1 2 3 \n",
      "1 2 3 4 \n",
      "1 2 3 4 5 \n",
      "1 2 3 4 \n",
      "1 2 3 \n",
      "1 2 \n",
      "1 \n",
      "\n"
     ]
    }
   ],
   "source": [
    "# 22. Write a Python program to construct the following pattern\n",
    "\n",
    "lastNumber = 6\n",
    "for row in range(1, lastNumber):\n",
    "    for column in range(1, row + 1):\n",
    "        print(column, end=' ')\n",
    "    print(\"\")\n",
    "    \n",
    "for row in range(lastNumber, 1, -1):\n",
    "    for column in range(1, row - 1):\n",
    "        print(column, end=' ')\n",
    "    print(\"\")"
   ]
  },
  {
   "cell_type": "code",
   "execution_count": 25,
   "metadata": {},
   "outputs": [
    {
     "name": "stdout",
     "output_type": "stream",
     "text": [
      "\n",
      "\n",
      "1 \n",
      "\n",
      "2 2 \n",
      "\n",
      "3 3 3 \n",
      "\n",
      "4 4 4 4 \n",
      "\n",
      "5 5 5 5 5 \n",
      "\n",
      "6 6 6 6 6 6 \n",
      "\n",
      "7 7 7 7 7 7 7 \n",
      "\n",
      "8 8 8 8 8 8 8 8 \n",
      "\n",
      "9 9 9 9 9 9 9 9 9 \n",
      "\n"
     ]
    }
   ],
   "source": [
    "# 23. Write a Python program to construct the following pattern\n",
    "\n",
    "for num in range(10):\n",
    "    for i in range(num):\n",
    "        print (num, end=\" \")\n",
    "    print(\"\\n\")"
   ]
  },
  {
   "cell_type": "code",
   "execution_count": null,
   "metadata": {},
   "outputs": [],
   "source": []
  }
 ],
 "metadata": {
  "kernelspec": {
   "display_name": "Python 3",
   "language": "python",
   "name": "python3"
  },
  "language_info": {
   "codemirror_mode": {
    "name": "ipython",
    "version": 3
   },
   "file_extension": ".py",
   "mimetype": "text/x-python",
   "name": "python",
   "nbconvert_exporter": "python",
   "pygments_lexer": "ipython3",
   "version": "3.6.4"
  }
 },
 "nbformat": 4,
 "nbformat_minor": 2
}
