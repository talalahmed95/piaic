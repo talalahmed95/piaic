{
 "cells": [
  {
   "cell_type": "code",
   "execution_count": 53,
   "metadata": {},
   "outputs": [
    {
     "name": "stdout",
     "output_type": "stream",
     "text": [
      "Enter Number of Subjects: 3\n",
      "Enter Name of Subject 0: Physics\n",
      "Enter Marks of Subject 0: 83\n",
      "Enter Name of Subject 1: Math\n",
      "Enter Marks of Subject 1: 67\n",
      "Enter Name of Subject 2: Chemistry\n",
      "Enter Marks of Subject 2: 94\n"
     ]
    }
   ],
   "source": [
    "# Marksheet Assignment\n",
    "\n",
    "import csv\n",
    "\n",
    "no_of_subjects = int(input(\"Enter Number of Subjects: \"))\n",
    "\n",
    "subject_dict = dict()\n",
    "\n",
    "for subject in range(no_of_subjects):\n",
    "    key = input(\"Enter Name of Subject %d: \" %subject)\n",
    "    value = int(input(\"Enter Marks of Subject %d: \" %subject))\n",
    "    subject_dict[key] = value\n",
    "    \n",
    "obt_marks = sum(subject_dict.values())\n",
    "\n",
    "total_marks = no_of_subjects * 100\n",
    "\n",
    "percentage = obt_marks / total_marks\n",
    "\n",
    "percentage = percentage * 100\n",
    "\n",
    "grade = ''\n",
    "\n",
    "if(percentage >= 90):\n",
    "    grade = \"A\"\n",
    "    \n",
    "elif(percentage >= 80 and percentage < 90):\n",
    "    grade = \"B\"\n",
    "    \n",
    "elif(percentage >= 70 and percentage < 80):\n",
    "    grade = \"C\"\n",
    "    \n",
    "elif(percentage >= 60 and percentage < 70):\n",
    "    grade = \"D\"\n",
    "    \n",
    "else:\n",
    "    grade = \"F\"\n",
    "    \n",
    "    \n",
    "\n",
    "with open(\"marksheet.csv\", \"w\", newline=\"\") as f:\n",
    "    data_handler = csv.writer(f, delimiter=\",\")\n",
    "    \n",
    "    data_handler.writerow(['Name: ', 'Talal Ahmed'])\n",
    "    data_handler.writerow(['Program: ', 'Artificial Intelligence'])\n",
    "    data_handler.writerow([' '])\n",
    "    data_handler.writerow(subject_dict.keys())\n",
    "    data_handler.writerow(subject_dict.values())\n",
    "    data_handler.writerow([' '])\n",
    "    data_handler.writerow(['Total Obtained Marks:', obt_marks])\n",
    "    data_handler.writerow(['Total Marks:', total_marks])\n",
    "    data_handler.writerow(['Percentage:', percentage])\n",
    "    data_handler.writerow(['Grade:', grade])"
   ]
  },
  {
   "cell_type": "code",
   "execution_count": null,
   "metadata": {},
   "outputs": [],
   "source": []
  }
 ],
 "metadata": {
  "kernelspec": {
   "display_name": "Python 3",
   "language": "python",
   "name": "python3"
  },
  "language_info": {
   "codemirror_mode": {
    "name": "ipython",
    "version": 3
   },
   "file_extension": ".py",
   "mimetype": "text/x-python",
   "name": "python",
   "nbconvert_exporter": "python",
   "pygments_lexer": "ipython3",
   "version": "3.6.4"
  }
 },
 "nbformat": 4,
 "nbformat_minor": 2
}
