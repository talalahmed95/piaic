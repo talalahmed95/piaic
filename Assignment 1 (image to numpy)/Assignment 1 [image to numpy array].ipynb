{
 "cells": [
  {
   "cell_type": "code",
   "execution_count": 72,
   "metadata": {},
   "outputs": [
    {
     "name": "stdout",
     "output_type": "stream",
     "text": [
      "1 [ 11  57 117]\n",
      "2 [ 79 137 183]\n",
      "3 [241 241 249]\n",
      "4 [  0  89 145]\n",
      "5 [  1 136 191]\n",
      "6 [1 2 4]\n",
      "7 [11 47 71]\n",
      "8 [113 110 119]\n",
      "9 [24 56 43]\n",
      "10 [85 75 66]\n",
      "11 [1 0 5]\n",
      "12 [  1 115 177]\n",
      "13 [ 0 62 71]\n",
      "14 [ 28 101 204]\n",
      "15 [27 75  0]\n",
      "16 [ 0  3 12]\n",
      "17 [61 26 24]\n",
      "18 [109 155 241]\n",
      "19 [55 62 81]\n",
      "20 [242 211 167]\n"
     ]
    }
   ],
   "source": [
    "import numpy as np\n",
    "import os\n",
    "\n",
    "from PIL import Image\n",
    "\n",
    "rootDir = 'images'\n",
    "count = 1\n",
    "for dirName, subDirList, fileList in os.walk(rootDir):\n",
    "    for fName in fileList:\n",
    "        im = Image.open(dirName+'/'+fName)\n",
    "        resized = im.resize((200, 200))\n",
    "        npImg = np.array(resized)\n",
    "        print(count,npImg[0,0])\n",
    "        count+=1"
   ]
  },
  {
   "cell_type": "code",
   "execution_count": null,
   "metadata": {},
   "outputs": [],
   "source": []
  }
 ],
 "metadata": {
  "kernelspec": {
   "display_name": "Python 3",
   "language": "python",
   "name": "python3"
  },
  "language_info": {
   "codemirror_mode": {
    "name": "ipython",
    "version": 3
   },
   "file_extension": ".py",
   "mimetype": "text/x-python",
   "name": "python",
   "nbconvert_exporter": "python",
   "pygments_lexer": "ipython3",
   "version": "3.6.4"
  }
 },
 "nbformat": 4,
 "nbformat_minor": 2
}
